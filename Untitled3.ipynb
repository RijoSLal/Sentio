{
 "cells": [
  {
   "cell_type": "code",
   "execution_count": 2,
   "id": "8256e8a4-0b53-483e-9205-b72ac7628aa1",
   "metadata": {},
   "outputs": [],
   "source": [
    "import pandas as pd "
   ]
  },
  {
   "cell_type": "code",
   "execution_count": 3,
   "id": "ed43b0cd-6bd7-40a6-9625-2f0979b2aae1",
   "metadata": {},
   "outputs": [],
   "source": [
    "from sklearn.model_selection import train_test_split\n",
    "df=pd.read_csv(\"toxic_data.csv\")"
   ]
  },
  {
   "cell_type": "code",
   "execution_count": 4,
   "id": "8f3c9c60-eee1-4d64-8d26-5061a74f321e",
   "metadata": {},
   "outputs": [
    {
     "data": {
      "text/html": [
       "<div>\n",
       "<style scoped>\n",
       "    .dataframe tbody tr th:only-of-type {\n",
       "        vertical-align: middle;\n",
       "    }\n",
       "\n",
       "    .dataframe tbody tr th {\n",
       "        vertical-align: top;\n",
       "    }\n",
       "\n",
       "    .dataframe thead th {\n",
       "        text-align: right;\n",
       "    }\n",
       "</style>\n",
       "<table border=\"1\" class=\"dataframe\">\n",
       "  <thead>\n",
       "    <tr style=\"text-align: right;\">\n",
       "      <th></th>\n",
       "      <th>Unnamed: 0</th>\n",
       "      <th>comment_text</th>\n",
       "      <th>toxic</th>\n",
       "      <th>severe_toxic</th>\n",
       "      <th>obscene</th>\n",
       "      <th>threat</th>\n",
       "      <th>insult</th>\n",
       "      <th>identity_hate</th>\n",
       "    </tr>\n",
       "  </thead>\n",
       "  <tbody>\n",
       "    <tr>\n",
       "      <th>0</th>\n",
       "      <td>0</td>\n",
       "      <td>Explanation\\nWhy the edits made under my usern...</td>\n",
       "      <td>0</td>\n",
       "      <td>0</td>\n",
       "      <td>0</td>\n",
       "      <td>0</td>\n",
       "      <td>0</td>\n",
       "      <td>0</td>\n",
       "    </tr>\n",
       "    <tr>\n",
       "      <th>1</th>\n",
       "      <td>1</td>\n",
       "      <td>D'aww! He matches this background colour I'm s...</td>\n",
       "      <td>0</td>\n",
       "      <td>0</td>\n",
       "      <td>0</td>\n",
       "      <td>0</td>\n",
       "      <td>0</td>\n",
       "      <td>0</td>\n",
       "    </tr>\n",
       "    <tr>\n",
       "      <th>2</th>\n",
       "      <td>2</td>\n",
       "      <td>Hey man, I'm really not trying to edit war. It...</td>\n",
       "      <td>0</td>\n",
       "      <td>0</td>\n",
       "      <td>0</td>\n",
       "      <td>0</td>\n",
       "      <td>0</td>\n",
       "      <td>0</td>\n",
       "    </tr>\n",
       "    <tr>\n",
       "      <th>3</th>\n",
       "      <td>3</td>\n",
       "      <td>\"\\nMore\\nI can't make any real suggestions on ...</td>\n",
       "      <td>0</td>\n",
       "      <td>0</td>\n",
       "      <td>0</td>\n",
       "      <td>0</td>\n",
       "      <td>0</td>\n",
       "      <td>0</td>\n",
       "    </tr>\n",
       "    <tr>\n",
       "      <th>4</th>\n",
       "      <td>4</td>\n",
       "      <td>You, sir, are my hero. Any chance you remember...</td>\n",
       "      <td>0</td>\n",
       "      <td>0</td>\n",
       "      <td>0</td>\n",
       "      <td>0</td>\n",
       "      <td>0</td>\n",
       "      <td>0</td>\n",
       "    </tr>\n",
       "    <tr>\n",
       "      <th>...</th>\n",
       "      <td>...</td>\n",
       "      <td>...</td>\n",
       "      <td>...</td>\n",
       "      <td>...</td>\n",
       "      <td>...</td>\n",
       "      <td>...</td>\n",
       "      <td>...</td>\n",
       "      <td>...</td>\n",
       "    </tr>\n",
       "    <tr>\n",
       "      <th>159566</th>\n",
       "      <td>159566</td>\n",
       "      <td>\":::::And for the second time of asking, when ...</td>\n",
       "      <td>0</td>\n",
       "      <td>0</td>\n",
       "      <td>0</td>\n",
       "      <td>0</td>\n",
       "      <td>0</td>\n",
       "      <td>0</td>\n",
       "    </tr>\n",
       "    <tr>\n",
       "      <th>159567</th>\n",
       "      <td>159567</td>\n",
       "      <td>You should be ashamed of yourself \\n\\nThat is ...</td>\n",
       "      <td>0</td>\n",
       "      <td>0</td>\n",
       "      <td>0</td>\n",
       "      <td>0</td>\n",
       "      <td>0</td>\n",
       "      <td>0</td>\n",
       "    </tr>\n",
       "    <tr>\n",
       "      <th>159568</th>\n",
       "      <td>159568</td>\n",
       "      <td>Spitzer \\n\\nUmm, theres no actual article for ...</td>\n",
       "      <td>0</td>\n",
       "      <td>0</td>\n",
       "      <td>0</td>\n",
       "      <td>0</td>\n",
       "      <td>0</td>\n",
       "      <td>0</td>\n",
       "    </tr>\n",
       "    <tr>\n",
       "      <th>159569</th>\n",
       "      <td>159569</td>\n",
       "      <td>And it looks like it was actually you who put ...</td>\n",
       "      <td>0</td>\n",
       "      <td>0</td>\n",
       "      <td>0</td>\n",
       "      <td>0</td>\n",
       "      <td>0</td>\n",
       "      <td>0</td>\n",
       "    </tr>\n",
       "    <tr>\n",
       "      <th>159570</th>\n",
       "      <td>159570</td>\n",
       "      <td>\"\\nAnd ... I really don't think you understand...</td>\n",
       "      <td>0</td>\n",
       "      <td>0</td>\n",
       "      <td>0</td>\n",
       "      <td>0</td>\n",
       "      <td>0</td>\n",
       "      <td>0</td>\n",
       "    </tr>\n",
       "  </tbody>\n",
       "</table>\n",
       "<p>159571 rows × 8 columns</p>\n",
       "</div>"
      ],
      "text/plain": [
       "        Unnamed: 0                                       comment_text  toxic  \\\n",
       "0                0  Explanation\\nWhy the edits made under my usern...      0   \n",
       "1                1  D'aww! He matches this background colour I'm s...      0   \n",
       "2                2  Hey man, I'm really not trying to edit war. It...      0   \n",
       "3                3  \"\\nMore\\nI can't make any real suggestions on ...      0   \n",
       "4                4  You, sir, are my hero. Any chance you remember...      0   \n",
       "...            ...                                                ...    ...   \n",
       "159566      159566  \":::::And for the second time of asking, when ...      0   \n",
       "159567      159567  You should be ashamed of yourself \\n\\nThat is ...      0   \n",
       "159568      159568  Spitzer \\n\\nUmm, theres no actual article for ...      0   \n",
       "159569      159569  And it looks like it was actually you who put ...      0   \n",
       "159570      159570  \"\\nAnd ... I really don't think you understand...      0   \n",
       "\n",
       "        severe_toxic  obscene  threat  insult  identity_hate  \n",
       "0                  0        0       0       0              0  \n",
       "1                  0        0       0       0              0  \n",
       "2                  0        0       0       0              0  \n",
       "3                  0        0       0       0              0  \n",
       "4                  0        0       0       0              0  \n",
       "...              ...      ...     ...     ...            ...  \n",
       "159566             0        0       0       0              0  \n",
       "159567             0        0       0       0              0  \n",
       "159568             0        0       0       0              0  \n",
       "159569             0        0       0       0              0  \n",
       "159570             0        0       0       0              0  \n",
       "\n",
       "[159571 rows x 8 columns]"
      ]
     },
     "execution_count": 4,
     "metadata": {},
     "output_type": "execute_result"
    }
   ],
   "source": [
    "df"
   ]
  },
  {
   "cell_type": "code",
   "execution_count": 5,
   "id": "de399595-a160-4003-aa92-fb7ebbfd9b55",
   "metadata": {},
   "outputs": [
    {
     "data": {
      "text/plain": [
       "Index(['Unnamed: 0', 'comment_text', 'toxic', 'severe_toxic', 'obscene',\n",
       "       'threat', 'insult', 'identity_hate'],\n",
       "      dtype='object')"
      ]
     },
     "execution_count": 5,
     "metadata": {},
     "output_type": "execute_result"
    }
   ],
   "source": [
    "df.columns"
   ]
  },
  {
   "cell_type": "code",
   "execution_count": null,
   "id": "7392842c-bea0-4754-8ed8-f26514ec21df",
   "metadata": {},
   "outputs": [],
   "source": []
  },
  {
   "cell_type": "code",
   "execution_count": null,
   "id": "398b8c89-12f8-44f6-b635-4ba662d2a3dc",
   "metadata": {},
   "outputs": [],
   "source": []
  },
  {
   "cell_type": "code",
   "execution_count": 6,
   "id": "e4eb3232-3faf-48f1-ba15-c899f0246291",
   "metadata": {},
   "outputs": [
    {
     "name": "stderr",
     "output_type": "stream",
     "text": [
      "2025-01-12 20:55:44.366638: I tensorflow/core/util/port.cc:153] oneDNN custom operations are on. You may see slightly different numerical results due to floating-point round-off errors from different computation orders. To turn them off, set the environment variable `TF_ENABLE_ONEDNN_OPTS=0`.\n",
      "2025-01-12 20:55:44.375075: E external/local_xla/xla/stream_executor/cuda/cuda_fft.cc:477] Unable to register cuFFT factory: Attempting to register factory for plugin cuFFT when one has already been registered\n",
      "WARNING: All log messages before absl::InitializeLog() is called are written to STDERR\n",
      "E0000 00:00:1736695544.383894   98998 cuda_dnn.cc:8310] Unable to register cuDNN factory: Attempting to register factory for plugin cuDNN when one has already been registered\n",
      "E0000 00:00:1736695544.386943   98998 cuda_blas.cc:1418] Unable to register cuBLAS factory: Attempting to register factory for plugin cuBLAS when one has already been registered\n",
      "2025-01-12 20:55:44.398118: I tensorflow/core/platform/cpu_feature_guard.cc:210] This TensorFlow binary is optimized to use available CPU instructions in performance-critical operations.\n",
      "To enable the following instructions: AVX2 AVX_VNNI FMA, in other operations, rebuild TensorFlow with the appropriate compiler flags.\n"
     ]
    }
   ],
   "source": [
    "import os \n",
    "os.environ[\"CUDA_VISIBLE_DEVICES\"]=\"-1\"\n",
    "import pandas as pd\n",
    "from tensorflow.keras.models import load_model\n",
    "from tensorflow.keras.preprocessing.text import Tokenizer\n",
    "from tensorflow.keras.preprocessing.sequence import pad_sequences\n",
    "from tensorflow import keras\n",
    "from tensorflow.keras.models import Sequential\n",
    "import pickle\n",
    "from sklearn.model_selection import train_test_split\n",
    "from keras.callbacks import EarlyStopping"
   ]
  },
  {
   "cell_type": "code",
   "execution_count": 7,
   "id": "50b06ae4-788b-4a30-9ec8-7005be43b28f",
   "metadata": {},
   "outputs": [],
   "source": [
    "def splitting_data(data):\n",
    "    dataset=pd.read_csv(data)\n",
    "    X=dataset[\"comment_text\"]\n",
    "    Y=dataset[[\"toxic\",\"severe_toxic\",\"obscene\",\"threat\",\"insult\",\"identity_hate\"]]\n",
    "    x_train,x_test,y_train,y_test=train_test_split(X,Y,test_size=0.2,random_state=24)\n",
    "    return x_train,x_test,y_train,y_test\n"
   ]
  },
  {
   "cell_type": "code",
   "execution_count": 8,
   "id": "6178cb30-930d-43f7-be19-3fdb99ce78c4",
   "metadata": {},
   "outputs": [],
   "source": [
    "\n",
    "x_train,x_test,y_train,y_test=splitting_data(\"toxic_data.csv\")"
   ]
  },
  {
   "cell_type": "code",
   "execution_count": null,
   "id": "c276f9a9-55b1-4575-a2f0-fdebe5414f43",
   "metadata": {},
   "outputs": [],
   "source": []
  },
  {
   "cell_type": "code",
   "execution_count": 24,
   "id": "0c647d15-aaf0-45b2-adff-0ff3cbbc18a1",
   "metadata": {},
   "outputs": [
    {
     "data": {
      "text/plain": [
       "80219            \"\\nLOST does redirect here.  (T | C | #) \"\n",
       "156921    \":::* I'm not using jabs or insults of any kin...\n",
       "11767     I know I shouldn't, guess I have a conditioned...\n",
       "59166                              Real Evil Little C U N T\n",
       "36768     \"\\n\\n Kingdom of Armenia \\n\\nHi, now that King...\n",
       "                                ...                        \n",
       "145412    Dear Patchy1, \\nI want briefly to thank again ...\n",
       "143483    You seem very experienced and wise. Why don't ...\n",
       "6500                        Lol, my major issue P:))  спойт\n",
       "152705    \"::I wrote a large part of the article, and it...\n",
       "899                                     I've just seen that\n",
       "Name: comment_text, Length: 127656, dtype: object"
      ]
     },
     "execution_count": 24,
     "metadata": {},
     "output_type": "execute_result"
    }
   ],
   "source": [
    "x_train"
   ]
  },
  {
   "cell_type": "code",
   "execution_count": 25,
   "id": "84c97204-8391-4259-a5c6-35f35f8b01ae",
   "metadata": {},
   "outputs": [
    {
     "data": {
      "text/html": [
       "<div>\n",
       "<style scoped>\n",
       "    .dataframe tbody tr th:only-of-type {\n",
       "        vertical-align: middle;\n",
       "    }\n",
       "\n",
       "    .dataframe tbody tr th {\n",
       "        vertical-align: top;\n",
       "    }\n",
       "\n",
       "    .dataframe thead th {\n",
       "        text-align: right;\n",
       "    }\n",
       "</style>\n",
       "<table border=\"1\" class=\"dataframe\">\n",
       "  <thead>\n",
       "    <tr style=\"text-align: right;\">\n",
       "      <th></th>\n",
       "      <th>toxic</th>\n",
       "      <th>severe_toxic</th>\n",
       "      <th>obscene</th>\n",
       "      <th>threat</th>\n",
       "      <th>insult</th>\n",
       "      <th>identity_hate</th>\n",
       "    </tr>\n",
       "  </thead>\n",
       "  <tbody>\n",
       "    <tr>\n",
       "      <th>80219</th>\n",
       "      <td>0</td>\n",
       "      <td>0</td>\n",
       "      <td>0</td>\n",
       "      <td>0</td>\n",
       "      <td>0</td>\n",
       "      <td>0</td>\n",
       "    </tr>\n",
       "    <tr>\n",
       "      <th>156921</th>\n",
       "      <td>0</td>\n",
       "      <td>0</td>\n",
       "      <td>0</td>\n",
       "      <td>0</td>\n",
       "      <td>0</td>\n",
       "      <td>0</td>\n",
       "    </tr>\n",
       "    <tr>\n",
       "      <th>11767</th>\n",
       "      <td>0</td>\n",
       "      <td>0</td>\n",
       "      <td>0</td>\n",
       "      <td>0</td>\n",
       "      <td>0</td>\n",
       "      <td>0</td>\n",
       "    </tr>\n",
       "    <tr>\n",
       "      <th>59166</th>\n",
       "      <td>1</td>\n",
       "      <td>0</td>\n",
       "      <td>1</td>\n",
       "      <td>0</td>\n",
       "      <td>0</td>\n",
       "      <td>0</td>\n",
       "    </tr>\n",
       "    <tr>\n",
       "      <th>36768</th>\n",
       "      <td>0</td>\n",
       "      <td>0</td>\n",
       "      <td>0</td>\n",
       "      <td>0</td>\n",
       "      <td>0</td>\n",
       "      <td>0</td>\n",
       "    </tr>\n",
       "    <tr>\n",
       "      <th>...</th>\n",
       "      <td>...</td>\n",
       "      <td>...</td>\n",
       "      <td>...</td>\n",
       "      <td>...</td>\n",
       "      <td>...</td>\n",
       "      <td>...</td>\n",
       "    </tr>\n",
       "    <tr>\n",
       "      <th>145412</th>\n",
       "      <td>0</td>\n",
       "      <td>0</td>\n",
       "      <td>0</td>\n",
       "      <td>0</td>\n",
       "      <td>0</td>\n",
       "      <td>0</td>\n",
       "    </tr>\n",
       "    <tr>\n",
       "      <th>143483</th>\n",
       "      <td>0</td>\n",
       "      <td>0</td>\n",
       "      <td>0</td>\n",
       "      <td>0</td>\n",
       "      <td>0</td>\n",
       "      <td>0</td>\n",
       "    </tr>\n",
       "    <tr>\n",
       "      <th>6500</th>\n",
       "      <td>0</td>\n",
       "      <td>0</td>\n",
       "      <td>0</td>\n",
       "      <td>0</td>\n",
       "      <td>0</td>\n",
       "      <td>0</td>\n",
       "    </tr>\n",
       "    <tr>\n",
       "      <th>152705</th>\n",
       "      <td>0</td>\n",
       "      <td>0</td>\n",
       "      <td>0</td>\n",
       "      <td>0</td>\n",
       "      <td>0</td>\n",
       "      <td>0</td>\n",
       "    </tr>\n",
       "    <tr>\n",
       "      <th>899</th>\n",
       "      <td>0</td>\n",
       "      <td>0</td>\n",
       "      <td>0</td>\n",
       "      <td>0</td>\n",
       "      <td>0</td>\n",
       "      <td>0</td>\n",
       "    </tr>\n",
       "  </tbody>\n",
       "</table>\n",
       "<p>127656 rows × 6 columns</p>\n",
       "</div>"
      ],
      "text/plain": [
       "        toxic  severe_toxic  obscene  threat  insult  identity_hate\n",
       "80219       0             0        0       0       0              0\n",
       "156921      0             0        0       0       0              0\n",
       "11767       0             0        0       0       0              0\n",
       "59166       1             0        1       0       0              0\n",
       "36768       0             0        0       0       0              0\n",
       "...       ...           ...      ...     ...     ...            ...\n",
       "145412      0             0        0       0       0              0\n",
       "143483      0             0        0       0       0              0\n",
       "6500        0             0        0       0       0              0\n",
       "152705      0             0        0       0       0              0\n",
       "899         0             0        0       0       0              0\n",
       "\n",
       "[127656 rows x 6 columns]"
      ]
     },
     "execution_count": 25,
     "metadata": {},
     "output_type": "execute_result"
    }
   ],
   "source": [
    "y_train"
   ]
  },
  {
   "cell_type": "code",
   "execution_count": 58,
   "id": "87fe771d-2dc2-45cb-9957-3f95052addc1",
   "metadata": {},
   "outputs": [],
   "source": [
    "def tokenize_model_compile_fit_save(x_train,x_test,y_train,y_test):\n",
    "    tokenize = Tokenizer(num_words=6000,lower=True)\n",
    "    tokenize.fit_on_texts(x_train)\n",
    "\n",
    "\n",
    "    x_train_dataset = tokenize.texts_to_sequences(x_train)\n",
    "    X_train = pad_sequences(x_train_dataset, maxlen=200)\n",
    "\n",
    "    x_test_dataset = tokenize.texts_to_sequences(x_test)\n",
    "    X_test = pad_sequences(x_test_dataset, maxlen=200)\n",
    "\n",
    "    model = Sequential([\n",
    "        keras.layers.Embedding(input_dim=6000, output_dim=128),\n",
    "        keras.layers.Bidirectional(\n",
    "        keras.layers.LSTM(128, return_sequences=True)),\n",
    "        keras.layers.Dropout(0.2),\n",
    "        keras.layers.LSTM(64),\n",
    "        keras.layers.Dropout(0.2),\n",
    "        keras.layers.Dense(32, activation='relu'),\n",
    "        keras.layers.Dense(6,activation=\"sigmoid\") \n",
    "    ])\n",
    "\n",
    "    stop=EarlyStopping(monitor=\"loss\",patience=2)\n",
    "\n",
    "    model.compile(loss=keras.losses.BinaryCrossentropy(), \n",
    "                optimizer=keras.optimizers.Adam(learning_rate=0.001), \n",
    "                metrics=[\"accuracy\"])\n",
    "\n",
    "\n",
    "    model.fit(X_train, y_train, batch_size=36, epochs=5,callbacks=[stop])\n",
    "    print(\"model fitted successfully\")\n",
    "\n",
    "    loss,accuracy=model.evaluate(X_test,y_test)\n",
    "    print(f\"loss : {loss}\\naccuracy : {accuracy}\")\n",
    "\n",
    "    model.save(\"sentiment_toxic.h5\")\n",
    "    print(\"model saved\")\n",
    "\n",
    "\n",
    "    with open('tokenizer_toxic.pkl', 'wb') as f:\n",
    "        pickle.dump(tokenize, f)\n",
    "\n",
    "\n"
   ]
  },
  {
   "cell_type": "code",
   "execution_count": null,
   "id": "b5566a0f-3cb4-4672-b37f-b91bac893bc0",
   "metadata": {},
   "outputs": [
    {
     "name": "stdout",
     "output_type": "stream",
     "text": [
      "Epoch 1/5\n",
      "\u001b[1m  77/3546\u001b[0m \u001b[37m━━━━━━━━━━━━━━━━━━━━\u001b[0m \u001b[1m7:46\u001b[0m 135ms/step - accuracy: 0.5949 - loss: 0.3409"
     ]
    }
   ],
   "source": [
    "tokenize_model_compile_fit_save(x_train,x_test,y_train,y_test)"
   ]
  },
  {
   "cell_type": "code",
   "execution_count": 20,
   "id": "a51f85bf-9c93-48c9-8d17-69de5b83131f",
   "metadata": {},
   "outputs": [],
   "source": [
    "import numpy as np \n",
    "\n",
    "def check_model_works():\n",
    "    model = load_model('sentiment_toxic.h5')\n",
    "\n",
    "\n",
    "    with open('tokenizer_toxic.pkl', 'rb') as f:\n",
    "        tokenizer = pickle.load(f)\n",
    "\n",
    "    text = [\"REMOVING CUM STAINS FROM THE FAGGOTs THAT JACK OFF HERE\"]\n",
    "\n",
    "\n",
    "    text_seq = tokenizer.texts_to_sequences(text)\n",
    "    text_padded = pad_sequences(text_seq, maxlen=200)\n",
    "\n",
    "\n",
    "    prediction = model.predict(text_padded)\n",
    "    print(prediction[0])\n",
    "    print(np.argmax(prediction[0]))"
   ]
  },
  {
   "cell_type": "code",
   "execution_count": 21,
   "id": "89887f66-2c68-46a5-b959-2694c7944311",
   "metadata": {},
   "outputs": [
    {
     "name": "stderr",
     "output_type": "stream",
     "text": [
      "2025-01-12 21:00:08.003426: E external/local_xla/xla/stream_executor/cuda/cuda_driver.cc:152] failed call to cuInit: INTERNAL: CUDA error: Failed call to cuInit: CUDA_ERROR_NO_DEVICE: no CUDA-capable device is detected\n",
      "2025-01-12 21:00:08.003449: I external/local_xla/xla/stream_executor/cuda/cuda_diagnostics.cc:137] retrieving CUDA diagnostic information for host: rijo-Thin-15-B12UCX\n",
      "2025-01-12 21:00:08.003454: I external/local_xla/xla/stream_executor/cuda/cuda_diagnostics.cc:144] hostname: rijo-Thin-15-B12UCX\n",
      "2025-01-12 21:00:08.003576: I external/local_xla/xla/stream_executor/cuda/cuda_diagnostics.cc:168] libcuda reported version is: 535.183.1\n",
      "2025-01-12 21:00:08.003590: I external/local_xla/xla/stream_executor/cuda/cuda_diagnostics.cc:172] kernel reported version is: 535.183.1\n",
      "2025-01-12 21:00:08.003592: I external/local_xla/xla/stream_executor/cuda/cuda_diagnostics.cc:259] kernel version seems to match DSO: 535.183.1\n",
      "WARNING:absl:Compiled the loaded model, but the compiled metrics have yet to be built. `model.compile_metrics` will be empty until you train or evaluate the model.\n"
     ]
    },
    {
     "name": "stdout",
     "output_type": "stream",
     "text": [
      "\u001b[1m1/1\u001b[0m \u001b[32m━━━━━━━━━━━━━━━━━━━━\u001b[0m\u001b[37m\u001b[0m \u001b[1m0s\u001b[0m 223ms/step\n",
      "[0.8937366  0.01518466 0.45073983 0.01168059 0.395103   0.03786653]\n",
      "0\n"
     ]
    }
   ],
   "source": [
    "check_model_works()"
   ]
  },
  {
   "cell_type": "code",
   "execution_count": 19,
   "id": "fed999aa-2d15-44b8-b045-981fa20f09a9",
   "metadata": {},
   "outputs": [
    {
     "data": {
      "text/plain": [
       "'REMOVING CUM STAINS FROM THE FAGGOTs THAT JACK OFF HERE'"
      ]
     },
     "execution_count": 19,
     "metadata": {},
     "output_type": "execute_result"
    }
   ],
   "source": [
    "x_test.iloc[208]\n"
   ]
  },
  {
   "cell_type": "code",
   "execution_count": null,
   "id": "1e33ba4e-d109-4a6e-b1f7-3c30423ff49a",
   "metadata": {},
   "outputs": [],
   "source": []
  }
 ],
 "metadata": {
  "kernelspec": {
   "display_name": "Python 3 (ipykernel)",
   "language": "python",
   "name": "python3"
  },
  "language_info": {
   "codemirror_mode": {
    "name": "ipython",
    "version": 3
   },
   "file_extension": ".py",
   "mimetype": "text/x-python",
   "name": "python",
   "nbconvert_exporter": "python",
   "pygments_lexer": "ipython3",
   "version": "3.12.3"
  }
 },
 "nbformat": 4,
 "nbformat_minor": 5
}
